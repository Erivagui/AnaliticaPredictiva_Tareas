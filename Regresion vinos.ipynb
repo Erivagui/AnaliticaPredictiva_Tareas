{
  "nbformat": 4,
  "nbformat_minor": 0,
  "metadata": {
    "colab": {
      "name": "Regresion caso vinos con SKlearn",
      "provenance": [],
      "include_colab_link": true
    },
    "kernelspec": {
      "display_name": "Python 3",
      "name": "python3"
    }
  },
  "cells": [
    {
      "cell_type": "markdown",
      "metadata": {
        "id": "view-in-github",
        "colab_type": "text"
      },
      "source": [
        "<a href=\"https://colab.research.google.com/github/MarvinLopezOsorio/AnaliticaPredictiva_Tareas/blob/main/Regresion%20vinos.ipynb\" target=\"_parent\"><img src=\"https://colab.research.google.com/assets/colab-badge.svg\" alt=\"Open In Colab\"/></a>"
      ]
    },
    {
      "cell_type": "markdown",
      "metadata": {
        "id": "jFuwnHW6ZvAt"
      },
      "source": [
        "<center>\n",
        "\n",
        "![Captura de Pantalla 2021-08-16 a la(s) 23.25.35.png](data:image/png;base64,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)\n",
        "\n",
        "</center>"
      ]
    },
    {
      "cell_type": "markdown",
      "metadata": {
        "id": "qMbF6-wo8jlE"
      },
      "source": [
        "<h1><b>\n",
        "Dirección de Estudios de Posgrado y Educación Continua\n",
        "<h2><b>\n",
        "Analítica Predictiva y Machine Learning con R, Python y Databricks\n"
      ]
    },
    {
      "cell_type": "markdown",
      "metadata": {
        "id": "hndtc3jj8xI4"
      },
      "source": [
        "[UNI-DEPEC](https://posgrado.uni.edu.ni)"
      ]
    },
    {
      "cell_type": "markdown",
      "metadata": {
        "id": "dXROoTjE8zHW"
      },
      "source": [
        "**Estudiante:** \n",
        "*   Marvin López Osorio\n",
        "*   Eduardo Rivera\n"
      ]
    },
    {
      "cell_type": "markdown",
      "metadata": {
        "id": "BcAfHRjb95tF"
      },
      "source": [
        "# **Tarea Modelos Supervisados**\n",
        "## **Modelo de Regresion: Quality en vino tinto**\n",
        "Los set de datos procesados corresponden a datos de variantes de vino tinto. Se utilizó como fuente el [dataset en Kaggle](https://www.kaggle.com/uciml/red-wine-quality-cortez-et-al-2009) que referencia al [repositorio de la University of California, Irvine](https://archive.ics.uci.edu/ml/datasets/wine+quality). En este Colab se explora la regressión de vino tinto, aplicada a la calidad o ranking. El objetivo principal de este experimento es, mediante una regresión lineal simple, predecir este ranking basado principalmente en el grado de alcohol."
      ]
    },
    {
      "cell_type": "markdown",
      "metadata": {
        "id": "CNRAulidCHrU"
      },
      "source": [
        "###**Carga de librerias necesarias**"
      ]
    },
    {
      "cell_type": "code",
      "metadata": {
        "id": "qP0eK6Q3CwG2"
      },
      "source": [
        "import pandas as pd\n",
        "import numpy as np"
      ],
      "execution_count": null,
      "outputs": []
    },
    {
      "cell_type": "markdown",
      "metadata": {
        "id": "Ig1A4Rbo5Zml"
      },
      "source": [
        "## **Desactivación de warnings**"
      ]
    },
    {
      "cell_type": "code",
      "metadata": {
        "id": "X3vVpMgB2e-8"
      },
      "source": [
        "import warnings\n",
        "warnings.filterwarnings('ignore')"
      ],
      "execution_count": null,
      "outputs": []
    },
    {
      "cell_type": "markdown",
      "metadata": {
        "id": "zA7zIsf_2p2P"
      },
      "source": [
        "## **Activación de Gráficos**"
      ]
    },
    {
      "cell_type": "code",
      "metadata": {
        "id": "ZSYx8Lqj2nA0"
      },
      "source": [
        "import matplotlib.pyplot as plt\n",
        "from matplotlib import style\n",
        "import seaborn as sns"
      ],
      "execution_count": null,
      "outputs": []
    },
    {
      "cell_type": "markdown",
      "metadata": {
        "id": "UCTvkOLZ2yzM"
      },
      "source": [
        "## **Preprocesado**\n"
      ]
    },
    {
      "cell_type": "code",
      "metadata": {
        "id": "l4pSi6hZ22cE"
      },
      "source": [
        "from scipy.stats import pearsonr\n",
        "from sklearn.linear_model import LinearRegression\n",
        "from sklearn.model_selection import train_test_split\n",
        "from sklearn.metrics import r2_score\n",
        "from sklearn.metrics import mean_squared_error\n",
        "import statsmodels.api as sm\n",
        "import statsmodels.formula.api as smf"
      ],
      "execution_count": null,
      "outputs": []
    },
    {
      "cell_type": "markdown",
      "metadata": {
        "id": "lWYy-wAN27sM"
      },
      "source": [
        "## **Configuración de matplotlib**"
      ]
    },
    {
      "cell_type": "code",
      "metadata": {
        "id": "O0w8OsjU3Atd"
      },
      "source": [
        "plt.rcParams['image.cmap'] = \"bwr\"\n",
        "#plt.rcParams['figure.dpi'] = \"100\"\n",
        "plt.rcParams['savefig.bbox'] = \"tight\"\n",
        "style.use('ggplot') or plt.style.use('ggplot')"
      ],
      "execution_count": null,
      "outputs": []
    },
    {
      "cell_type": "markdown",
      "metadata": {
        "id": "KrbocgLZDBiu"
      },
      "source": [
        "###**Obtención de los datos**\n",
        "Los datos originales se obtienen de un repositorio que contiene el archivo winequality-red.csv."
      ]
    },
    {
      "cell_type": "code",
      "metadata": {
        "id": "lIYdn1woOS1n",
        "colab": {
          "base_uri": "https://localhost:8080/",
          "height": 441
        },
        "outputId": "20c96ea9-4c25-4e08-cd0e-7e35182624a9"
      },
      "source": [
        "#Referencias al repositorio de origen\n",
        "repository = 'https://archive.ics.uci.edu/ml/machine-learning-databases/wine-quality/'\n",
        "red_wine_file = 'winequality-red.csv'\n",
        "white_wine_file = 'winequality-white.csv'\n",
        "\n",
        "#Leer datos\n",
        "red_wine = pd.read_csv(repository + red_wine_file, sep=';')\n",
        "#white_wine = pd.read_csv(repository + white_wine_file, sep=';')\n",
        "\n",
        "red_wine"
      ],
      "execution_count": null,
      "outputs": [
        {
          "output_type": "execute_result",
          "data": {
            "text/html": [
              "<div>\n",
              "<style scoped>\n",
              "    .dataframe tbody tr th:only-of-type {\n",
              "        vertical-align: middle;\n",
              "    }\n",
              "\n",
              "    .dataframe tbody tr th {\n",
              "        vertical-align: top;\n",
              "    }\n",
              "\n",
              "    .dataframe thead th {\n",
              "        text-align: right;\n",
              "    }\n",
              "</style>\n",
              "<table border=\"1\" class=\"dataframe\">\n",
              "  <thead>\n",
              "    <tr style=\"text-align: right;\">\n",
              "      <th></th>\n",
              "      <th>fixed acidity</th>\n",
              "      <th>volatile acidity</th>\n",
              "      <th>citric acid</th>\n",
              "      <th>residual sugar</th>\n",
              "      <th>chlorides</th>\n",
              "      <th>free sulfur dioxide</th>\n",
              "      <th>total sulfur dioxide</th>\n",
              "      <th>density</th>\n",
              "      <th>pH</th>\n",
              "      <th>sulphates</th>\n",
              "      <th>alcohol</th>\n",
              "      <th>quality</th>\n",
              "    </tr>\n",
              "  </thead>\n",
              "  <tbody>\n",
              "    <tr>\n",
              "      <th>0</th>\n",
              "      <td>7.4</td>\n",
              "      <td>0.700</td>\n",
              "      <td>0.00</td>\n",
              "      <td>1.9</td>\n",
              "      <td>0.076</td>\n",
              "      <td>11.0</td>\n",
              "      <td>34.0</td>\n",
              "      <td>0.99780</td>\n",
              "      <td>3.51</td>\n",
              "      <td>0.56</td>\n",
              "      <td>9.4</td>\n",
              "      <td>5</td>\n",
              "    </tr>\n",
              "    <tr>\n",
              "      <th>1</th>\n",
              "      <td>7.8</td>\n",
              "      <td>0.880</td>\n",
              "      <td>0.00</td>\n",
              "      <td>2.6</td>\n",
              "      <td>0.098</td>\n",
              "      <td>25.0</td>\n",
              "      <td>67.0</td>\n",
              "      <td>0.99680</td>\n",
              "      <td>3.20</td>\n",
              "      <td>0.68</td>\n",
              "      <td>9.8</td>\n",
              "      <td>5</td>\n",
              "    </tr>\n",
              "    <tr>\n",
              "      <th>2</th>\n",
              "      <td>7.8</td>\n",
              "      <td>0.760</td>\n",
              "      <td>0.04</td>\n",
              "      <td>2.3</td>\n",
              "      <td>0.092</td>\n",
              "      <td>15.0</td>\n",
              "      <td>54.0</td>\n",
              "      <td>0.99700</td>\n",
              "      <td>3.26</td>\n",
              "      <td>0.65</td>\n",
              "      <td>9.8</td>\n",
              "      <td>5</td>\n",
              "    </tr>\n",
              "    <tr>\n",
              "      <th>3</th>\n",
              "      <td>11.2</td>\n",
              "      <td>0.280</td>\n",
              "      <td>0.56</td>\n",
              "      <td>1.9</td>\n",
              "      <td>0.075</td>\n",
              "      <td>17.0</td>\n",
              "      <td>60.0</td>\n",
              "      <td>0.99800</td>\n",
              "      <td>3.16</td>\n",
              "      <td>0.58</td>\n",
              "      <td>9.8</td>\n",
              "      <td>6</td>\n",
              "    </tr>\n",
              "    <tr>\n",
              "      <th>4</th>\n",
              "      <td>7.4</td>\n",
              "      <td>0.700</td>\n",
              "      <td>0.00</td>\n",
              "      <td>1.9</td>\n",
              "      <td>0.076</td>\n",
              "      <td>11.0</td>\n",
              "      <td>34.0</td>\n",
              "      <td>0.99780</td>\n",
              "      <td>3.51</td>\n",
              "      <td>0.56</td>\n",
              "      <td>9.4</td>\n",
              "      <td>5</td>\n",
              "    </tr>\n",
              "    <tr>\n",
              "      <th>...</th>\n",
              "      <td>...</td>\n",
              "      <td>...</td>\n",
              "      <td>...</td>\n",
              "      <td>...</td>\n",
              "      <td>...</td>\n",
              "      <td>...</td>\n",
              "      <td>...</td>\n",
              "      <td>...</td>\n",
              "      <td>...</td>\n",
              "      <td>...</td>\n",
              "      <td>...</td>\n",
              "      <td>...</td>\n",
              "    </tr>\n",
              "    <tr>\n",
              "      <th>1594</th>\n",
              "      <td>6.2</td>\n",
              "      <td>0.600</td>\n",
              "      <td>0.08</td>\n",
              "      <td>2.0</td>\n",
              "      <td>0.090</td>\n",
              "      <td>32.0</td>\n",
              "      <td>44.0</td>\n",
              "      <td>0.99490</td>\n",
              "      <td>3.45</td>\n",
              "      <td>0.58</td>\n",
              "      <td>10.5</td>\n",
              "      <td>5</td>\n",
              "    </tr>\n",
              "    <tr>\n",
              "      <th>1595</th>\n",
              "      <td>5.9</td>\n",
              "      <td>0.550</td>\n",
              "      <td>0.10</td>\n",
              "      <td>2.2</td>\n",
              "      <td>0.062</td>\n",
              "      <td>39.0</td>\n",
              "      <td>51.0</td>\n",
              "      <td>0.99512</td>\n",
              "      <td>3.52</td>\n",
              "      <td>0.76</td>\n",
              "      <td>11.2</td>\n",
              "      <td>6</td>\n",
              "    </tr>\n",
              "    <tr>\n",
              "      <th>1596</th>\n",
              "      <td>6.3</td>\n",
              "      <td>0.510</td>\n",
              "      <td>0.13</td>\n",
              "      <td>2.3</td>\n",
              "      <td>0.076</td>\n",
              "      <td>29.0</td>\n",
              "      <td>40.0</td>\n",
              "      <td>0.99574</td>\n",
              "      <td>3.42</td>\n",
              "      <td>0.75</td>\n",
              "      <td>11.0</td>\n",
              "      <td>6</td>\n",
              "    </tr>\n",
              "    <tr>\n",
              "      <th>1597</th>\n",
              "      <td>5.9</td>\n",
              "      <td>0.645</td>\n",
              "      <td>0.12</td>\n",
              "      <td>2.0</td>\n",
              "      <td>0.075</td>\n",
              "      <td>32.0</td>\n",
              "      <td>44.0</td>\n",
              "      <td>0.99547</td>\n",
              "      <td>3.57</td>\n",
              "      <td>0.71</td>\n",
              "      <td>10.2</td>\n",
              "      <td>5</td>\n",
              "    </tr>\n",
              "    <tr>\n",
              "      <th>1598</th>\n",
              "      <td>6.0</td>\n",
              "      <td>0.310</td>\n",
              "      <td>0.47</td>\n",
              "      <td>3.6</td>\n",
              "      <td>0.067</td>\n",
              "      <td>18.0</td>\n",
              "      <td>42.0</td>\n",
              "      <td>0.99549</td>\n",
              "      <td>3.39</td>\n",
              "      <td>0.66</td>\n",
              "      <td>11.0</td>\n",
              "      <td>6</td>\n",
              "    </tr>\n",
              "  </tbody>\n",
              "</table>\n",
              "<p>1599 rows × 12 columns</p>\n",
              "</div>"
            ],
            "text/plain": [
              "      fixed acidity  volatile acidity  citric acid  ...  sulphates  alcohol  quality\n",
              "0               7.4             0.700         0.00  ...       0.56      9.4        5\n",
              "1               7.8             0.880         0.00  ...       0.68      9.8        5\n",
              "2               7.8             0.760         0.04  ...       0.65      9.8        5\n",
              "3              11.2             0.280         0.56  ...       0.58      9.8        6\n",
              "4               7.4             0.700         0.00  ...       0.56      9.4        5\n",
              "...             ...               ...          ...  ...        ...      ...      ...\n",
              "1594            6.2             0.600         0.08  ...       0.58     10.5        5\n",
              "1595            5.9             0.550         0.10  ...       0.76     11.2        6\n",
              "1596            6.3             0.510         0.13  ...       0.75     11.0        6\n",
              "1597            5.9             0.645         0.12  ...       0.71     10.2        5\n",
              "1598            6.0             0.310         0.47  ...       0.66     11.0        6\n",
              "\n",
              "[1599 rows x 12 columns]"
            ]
          },
          "metadata": {},
          "execution_count": 2
        }
      ]
    },
    {
      "cell_type": "markdown",
      "metadata": {
        "id": "ktdIw_h-5_yg"
      },
      "source": [
        "# **Creación de gráfica de dispersión, entre grados de alcohol y calidad del vino**\n",
        "Se evalua la relacion entre el grado alcohólico y la variable objetivo, calidad, y posterior con correlacion Pearson"
      ]
    },
    {
      "cell_type": "code",
      "metadata": {
        "id": "3GvO2-7q4m6x",
        "colab": {
          "base_uri": "https://localhost:8080/",
          "height": 408
        },
        "outputId": "cee386b3-071c-463e-b519-fc85b9eb6dfc"
      },
      "source": [
        "fig, ax = plt.subplots(figsize=(10, 6))\n",
        "\n",
        "red_wine.plot(\n",
        "    x    = 'alcohol',\n",
        "    y    = 'quality',\n",
        "     c    = 'firebrick',\n",
        "    kind = \"scatter\",\n",
        "    ax   = ax)\n",
        "\n",
        "ax.set_title('Alcohol vs calidad');"
      ],
      "execution_count": null,
      "outputs": [
        {
          "output_type": "display_data",
          "data": {
            "image/png": "[encoded data removed]",
            "text/plain": [
              "<Figure size 720x432 with 1 Axes>"
            ]
          },
          "metadata": {}
        }
      ]
    },
    {
      "cell_type": "markdown",
      "metadata": {
        "id": "A8oTTWwkGRgJ"
      },
      "source": [
        "\n",
        "La gráfica muestra una dispersión un poco rara entre las variables, pero se realiza una prueba más con el método de Pearson, para determinar si existe una correlación"
      ]
    },
    {
      "cell_type": "code",
      "metadata": {
        "id": "MN18do4ZGRSC",
        "colab": {
          "base_uri": "https://localhost:8080/"
        },
        "outputId": "5fd33e85-3cae-479b-e627-debeb18e94ef"
      },
      "source": [
        "corr_test = pearsonr(x = red_wine['alcohol'], y =  red_wine['quality'])\n",
        "print(\"Coeficiente de correlación de Pearson: \", corr_test[0])\n",
        "print(\"P-value: \", corr_test[1])"
      ],
      "execution_count": null,
      "outputs": [
        {
          "output_type": "stream",
          "name": "stdout",
          "text": [
            "Coeficiente de correlación de Pearson:  0.47616632400113607\n",
            "P-value:  2.831476974778582e-91\n"
          ]
        }
      ]
    },
    {
      "cell_type": "markdown",
      "metadata": {
        "id": "_D3wgcNyGSNr"
      },
      "source": [
        "El valor de Correlación es muy bajo y ademas el valor P es demasiado alto, lo que indica que no vale la pena generar ningún modelo de regresion"
      ]
    },
    {
      "cell_type": "markdown",
      "metadata": {
        "id": "3Zvqe2lz64Z8"
      },
      "source": [
        "### **Solo para prácticar la creación del modelo se seguirá el ejemplo para ver resultados e implementación del mismo**"
      ]
    },
    {
      "cell_type": "markdown",
      "metadata": {
        "id": "sdd_vPs39A0N"
      },
      "source": [
        "# Separación de datos de entrenamiento y datos de prueba\n"
      ]
    },
    {
      "cell_type": "code",
      "metadata": {
        "id": "qC5aIFeUFB_c"
      },
      "source": [
        "X = red_wine[['alcohol']]\n",
        "y = red_wine['quality']\n",
        "\n",
        "X_train, X_test, y_train, y_test = train_test_split(\n",
        "                                        X.values.reshape(-1,1),\n",
        "                                        y.values.reshape(-1,1),\n",
        "                                        train_size   = 0.8,\n",
        "                                        random_state = 1234,\n",
        "                                        shuffle      = True)\n"
      ],
      "execution_count": null,
      "outputs": []
    },
    {
      "cell_type": "markdown",
      "metadata": {
        "id": "0eKRgs5LBfJ1"
      },
      "source": [
        "# **Generación de Modelo**"
      ]
    },
    {
      "cell_type": "code",
      "metadata": {
        "colab": {
          "base_uri": "https://localhost:8080/"
        },
        "id": "ZUgZCd6jNfO3",
        "outputId": "255c3e79-abf1-4f07-edf9-7300d0935880"
      },
      "source": [
        "modelo = LinearRegression()\n",
        "modelo.fit(X = X_train.reshape(-1, 1), y = y_train)"
      ],
      "execution_count": null,
      "outputs": [
        {
          "output_type": "execute_result",
          "data": {
            "text/plain": [
              "LinearRegression()"
            ]
          },
          "metadata": {},
          "execution_count": 11
        }
      ]
    },
    {
      "cell_type": "markdown",
      "metadata": {
        "id": "vlxWBDVgB0id"
      },
      "source": [
        "# **Reporte de modelo**"
      ]
    },
    {
      "cell_type": "code",
      "metadata": {
        "colab": {
          "base_uri": "https://localhost:8080/"
        },
        "id": "oNsKKZNQN_oz",
        "outputId": "cebf4cda-0fc0-4d03-af0a-5e920c6320be"
      },
      "source": [
        "print(\"Intercept:\", modelo.intercept_)\n",
        "print(\"Coeficiente:\", list(zip(X.columns, modelo.coef_.flatten(), )))\n",
        "print(\"Coeficiente de determinación R^2:\", modelo.score(X, y))"
      ],
      "execution_count": null,
      "outputs": [
        {
          "output_type": "stream",
          "name": "stdout",
          "text": [
            "Intercept: [1.83440741]\n",
            "Coeficiente: [('alcohol', 0.3645745768967388)]\n",
            "Coeficiente de determinación R^2: 0.22670587425978805\n"
          ]
        }
      ]
    },
    {
      "cell_type": "markdown",
      "metadata": {
        "id": "PCMXH6ZtGQ8e"
      },
      "source": [
        "# **Prueba de modelo con la variable de prueba**\n"
      ]
    },
    {
      "cell_type": "code",
      "metadata": {
        "id": "CgMAJojlGTc3",
        "colab": {
          "base_uri": "https://localhost:8080/"
        },
        "outputId": "e57e19ad-801b-4f5b-9771-596d485e9791"
      },
      "source": [
        "predicciones = modelo.predict(X = X_test)\n",
        "print(predicciones[0:3,])\n",
        "\n",
        "rmse = mean_squared_error(\n",
        "        y_true  = y_test,\n",
        "        y_pred  = predicciones,\n",
        "        squared = False\n",
        "       )\n",
        "print(\"\")\n",
        "print(f\"El error (rmse) de test es: {rmse}\")"
      ],
      "execution_count": null,
      "outputs": [
        {
          "output_type": "stream",
          "name": "stdout",
          "text": [
            "[[5.26140843]\n",
            " [5.22495097]\n",
            " [5.88118521]]\n",
            "\n",
            "El error (rmse) de test es: 0.6801776611157367\n"
          ]
        }
      ]
    },
    {
      "cell_type": "markdown",
      "metadata": {
        "id": "P3T0ZNZJGTGv"
      },
      "source": [
        "# **Creación del modelo utilizando Sklearn**"
      ]
    },
    {
      "cell_type": "code",
      "metadata": {
        "id": "68yGygPgGUKL"
      },
      "source": [
        "X = red_wine[['alcohol']]\n",
        "y = red_wine['quality']\n",
        "\n",
        "X_train, X_test, y_train, y_test = train_test_split(\n",
        "                                        X.values.reshape(-1,1),\n",
        "                                        y.values.reshape(-1,1),\n",
        "                                        train_size   = 0.8,\n",
        "                                        random_state = 1234,\n",
        "                                        shuffle      = True)"
      ],
      "execution_count": null,
      "outputs": []
    },
    {
      "cell_type": "code",
      "metadata": {
        "id": "DNJcqNZvGT7U",
        "colab": {
          "base_uri": "https://localhost:8080/"
        },
        "outputId": "30ba0213-881a-44ba-c9cd-f9543b11ff7a"
      },
      "source": [
        "X_train = sm.add_constant(X_train, prepend=True)\n",
        "modelo = sm.OLS(endog=y_train, exog=X_train,)\n",
        "modelo = modelo.fit()\n",
        "print(modelo.summary())"
      ],
      "execution_count": null,
      "outputs": [
        {
          "output_type": "stream",
          "name": "stdout",
          "text": [
            "                            OLS Regression Results                            \n",
            "==============================================================================\n",
            "Dep. Variable:                      y   R-squared:                       0.226\n",
            "Model:                            OLS   Adj. R-squared:                  0.225\n",
            "Method:                 Least Squares   F-statistic:                     372.9\n",
            "Date:                Thu, 02 Dec 2021   Prob (F-statistic):           4.28e-73\n",
            "Time:                        21:08:57   Log-Likelihood:                -1389.7\n",
            "No. Observations:                1279   AIC:                             2783.\n",
            "Df Residuals:                    1277   BIC:                             2794.\n",
            "Df Model:                           1                                         \n",
            "Covariance Type:            nonrobust                                         \n",
            "==============================================================================\n",
            "                 coef    std err          t      P>|t|      [0.025      0.975]\n",
            "------------------------------------------------------------------------------\n",
            "const          1.8344      0.198      9.269      0.000       1.446       2.223\n",
            "x1             0.3646      0.019     19.310      0.000       0.328       0.402\n",
            "==============================================================================\n",
            "Omnibus:                       28.004   Durbin-Watson:                   2.090\n",
            "Prob(Omnibus):                  0.000   Jarque-Bera (JB):               51.743\n",
            "Skew:                          -0.123   Prob(JB):                     5.81e-12\n",
            "Kurtosis:                       3.954   Cond. No.                         104.\n",
            "==============================================================================\n",
            "\n",
            "Warnings:\n",
            "[1] Standard Errors assume that the covariance matrix of the errors is correctly specified.\n"
          ]
        }
      ]
    },
    {
      "cell_type": "markdown",
      "metadata": {
        "id": "sHveORi9pAsk"
      },
      "source": [
        "# **Intervalo de confianza **"
      ]
    },
    {
      "cell_type": "code",
      "metadata": {
        "id": "U1Vk2zcrHd8j",
        "colab": {
          "base_uri": "https://localhost:8080/"
        },
        "outputId": "fabaa5e6-70ca-444d-e22b-e4640f461a03"
      },
      "source": [
        "modelo.conf_int(alpha=0.05)"
      ],
      "execution_count": null,
      "outputs": [
        {
          "output_type": "execute_result",
          "data": {
            "text/plain": [
              "array([[1.44613207, 2.22268275],\n",
              "       [0.32753496, 0.4016142 ]])"
            ]
          },
          "metadata": {},
          "execution_count": 16
        }
      ]
    },
    {
      "cell_type": "markdown",
      "metadata": {
        "id": "mbReL9EIsS1M"
      },
      "source": [
        "# **Se crea la predicción, basado en el intervalo de confianza**"
      ]
    },
    {
      "cell_type": "code",
      "metadata": {
        "id": "BjvT5zO-H0ZB",
        "colab": {
          "base_uri": "https://localhost:8080/",
          "height": 175
        },
        "outputId": "47f992d4-e1e4-4b76-af4f-1ee5ed021f88"
      },
      "source": [
        "predicciones = modelo.get_prediction(exog = X_train).summary_frame(alpha=0.05)\n",
        "predicciones.head(4)"
      ],
      "execution_count": null,
      "outputs": [
        {
          "output_type": "execute_result",
          "data": {
            "text/html": [
              "<div>\n",
              "<style scoped>\n",
              "    .dataframe tbody tr th:only-of-type {\n",
              "        vertical-align: middle;\n",
              "    }\n",
              "\n",
              "    .dataframe tbody tr th {\n",
              "        vertical-align: top;\n",
              "    }\n",
              "\n",
              "    .dataframe thead th {\n",
              "        text-align: right;\n",
              "    }\n",
              "</style>\n",
              "<table border=\"1\" class=\"dataframe\">\n",
              "  <thead>\n",
              "    <tr style=\"text-align: right;\">\n",
              "      <th></th>\n",
              "      <th>mean</th>\n",
              "      <th>mean_se</th>\n",
              "      <th>mean_ci_lower</th>\n",
              "      <th>mean_ci_upper</th>\n",
              "      <th>obs_ci_lower</th>\n",
              "      <th>obs_ci_upper</th>\n",
              "    </tr>\n",
              "  </thead>\n",
              "  <tbody>\n",
              "    <tr>\n",
              "      <th>0</th>\n",
              "      <td>5.954100</td>\n",
              "      <td>0.025950</td>\n",
              "      <td>5.903190</td>\n",
              "      <td>6.005010</td>\n",
              "      <td>4.545093</td>\n",
              "      <td>7.363107</td>\n",
              "    </tr>\n",
              "    <tr>\n",
              "      <th>1</th>\n",
              "      <td>5.407238</td>\n",
              "      <td>0.023317</td>\n",
              "      <td>5.361495</td>\n",
              "      <td>5.452981</td>\n",
              "      <td>3.998408</td>\n",
              "      <td>6.816068</td>\n",
              "    </tr>\n",
              "    <tr>\n",
              "      <th>2</th>\n",
              "      <td>5.334323</td>\n",
              "      <td>0.025447</td>\n",
              "      <td>5.284400</td>\n",
              "      <td>5.384246</td>\n",
              "      <td>3.925352</td>\n",
              "      <td>6.743295</td>\n",
              "    </tr>\n",
              "    <tr>\n",
              "      <th>3</th>\n",
              "      <td>5.662440</td>\n",
              "      <td>0.020115</td>\n",
              "      <td>5.622979</td>\n",
              "      <td>5.701902</td>\n",
              "      <td>4.253801</td>\n",
              "      <td>7.071080</td>\n",
              "    </tr>\n",
              "  </tbody>\n",
              "</table>\n",
              "</div>"
            ],
            "text/plain": [
              "       mean   mean_se  mean_ci_lower  mean_ci_upper  obs_ci_lower  obs_ci_upper\n",
              "0  5.954100  0.025950       5.903190       6.005010      4.545093      7.363107\n",
              "1  5.407238  0.023317       5.361495       5.452981      3.998408      6.816068\n",
              "2  5.334323  0.025447       5.284400       5.384246      3.925352      6.743295\n",
              "3  5.662440  0.020115       5.622979       5.701902      4.253801      7.071080"
            ]
          },
          "metadata": {},
          "execution_count": 17
        }
      ]
    },
    {
      "cell_type": "markdown",
      "metadata": {
        "id": "UIkQ2UqksRX0"
      },
      "source": [
        "# **Se genera la representación gráfica del modelo**"
      ]
    },
    {
      "cell_type": "code",
      "metadata": {
        "id": "iMxYF_pnIIIm"
      },
      "source": [
        "predicciones = modelo.get_prediction(exog = X_train).summary_frame(alpha=0.05)\n",
        "predicciones['x'] = X_train[:, 1]\n",
        "predicciones['y'] = y_train\n",
        "predicciones = predicciones.sort_values('x')"
      ],
      "execution_count": null,
      "outputs": []
    },
    {
      "cell_type": "code",
      "metadata": {
        "id": "p6tHHxErINCl",
        "colab": {
          "base_uri": "https://localhost:8080/",
          "height": 374
        },
        "outputId": "f027fe2d-9d78-480b-b071-2b04667f3d7f"
      },
      "source": [
        "fig, ax = plt.subplots(figsize=(10, 6))\n",
        "\n",
        "ax.scatter(predicciones['x'], predicciones['y'], marker='o', color = \"gray\")\n",
        "ax.plot(predicciones['x'], predicciones[\"mean\"], linestyle='-', label=\"OLS\")\n",
        "ax.plot(predicciones['x'], predicciones[\"mean_ci_lower\"], linestyle='--', color='red', label=\"95% CI\")\n",
        "ax.plot(predicciones['x'], predicciones[\"mean_ci_upper\"], linestyle='--', color='red')\n",
        "ax.fill_between(predicciones['x'], predicciones[\"mean_ci_lower\"], predicciones[\"mean_ci_upper\"], alpha=0.1)\n",
        "ax.legend();"
      ],
      "execution_count": null,
      "outputs": [
        {
          "output_type": "display_data",
          "data": {
            "image/png": "[encoded data removed]",
            "text/plain": [
              "<Figure size 720x432 with 1 Axes>"
            ]
          },
          "metadata": {}
        }
      ]
    },
    {
      "cell_type": "markdown",
      "metadata": {
        "id": "olcp9AKLtbqM"
      },
      "source": [
        "# Se genera el error de test"
      ]
    },
    {
      "cell_type": "code",
      "metadata": {
        "colab": {
          "base_uri": "https://localhost:8080/"
        },
        "id": "VnpgzmZRDGmP",
        "outputId": "8ce6de05-d6eb-43d6-88c3-9d5a40a1ed99"
      },
      "source": [
        "X_test = sm.add_constant(X_test, prepend=True)\n",
        "predicciones = modelo.predict(exog = X_test)\n",
        "rmse = mean_squared_error(\n",
        "        y_true  = y_test,\n",
        "        y_pred  = predicciones,\n",
        "        squared = False\n",
        "       )\n",
        "print(\"\")\n",
        "print(f\"El error (rmse) de test es: {rmse}\")"
      ],
      "execution_count": null,
      "outputs": [
        {
          "output_type": "stream",
          "name": "stdout",
          "text": [
            "\n",
            "El error (rmse) de test es: 0.6801776611157367\n"
          ]
        }
      ]
    },
    {
      "cell_type": "markdown",
      "metadata": {
        "id": "yv6yyJChDOjO"
      },
      "source": [
        "# **Conclusiones**"
      ]
    },
    {
      "cell_type": "markdown",
      "metadata": {
        "id": "VXnfTujRDfU8"
      },
      "source": [
        "*   Básicamente el modelo puede explicar el 22.6% de la variabilidad de la calidad(variable deseada). \n",
        "\n",
        "*   Por otro lado el valor P-value (F-statistics) es demasiado grande para que  pueda ser tomado en cuenta como un modelo válido de regressión líneal.\n",
        "Aún así el posible modelo resultante es: \n",
        "$$quality = 1.8344 + 0.774*alcohol$$\n",
        "*   El error del modelo es de 68%, lo que indica que cualquier predicción puede estar alejada un 68% del resultado verdadero.\n",
        "\n",
        "*   Es posible que el desempeño del modelo mejore si se incluyen las otras variables del dataset, pasando de una regresión linear simple a múltiple. Esto podrían ser otros pasos de seguir con la ingenieria del modelo."
      ]
    }
  ]
}